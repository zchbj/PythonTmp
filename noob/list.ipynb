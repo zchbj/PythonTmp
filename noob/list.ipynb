{
 "cells": [
  {
   "cell_type": "code",
   "execution_count": null,
   "metadata": {
    "collapsed": true
   },
   "outputs": [],
   "source": [
    "# 内置方法\n",
    "arr = [1, 2, 3, 4]\n",
    "arr.append(5)\n",
    "print arr\n",
    "arr.extend([6,7,8])\n",
    "print arr\n",
    "print arr.pop(0)\n",
    "print arr\n",
    "print arr.remove(7)\n",
    "print arr\n",
    "arr.insert(4,5)\n",
    "print arr\n",
    "print arr.count(5)\n",
    "arr.reverse()\n",
    "print arr\n",
    "arr.sort(reverse=False)\n",
    "print arr\n",
    "\n"
   ]
  },
  {
   "cell_type": "code",
   "execution_count": 53,
   "metadata": {},
   "outputs": [
    {
     "name": "stdout",
     "output_type": "stream",
     "text": [
      "[1, 2, 3, 4]\n[0, 1, 2, 3, 4, 5, 6, 7, 8, 9]\n[1, 1, 1, 1, 1, 1, 1, 1]\n[2, 2, 2, 2, 2, 2, 2, 2, 2, 2]\n[1, 2, 3, 4]\n[1, 2, 3, 4]\n[1, 2, 3, 4]\n[0, 1, 2, 3, 4, 5, 6, 7, 8, 9]\nslice [1, 3, 5, 7]\n[0, 1]\n[1]\n[2, 3, 4, 5, 6, 7, 8, 9]\n[1, 2, 3, 4, 5, 6, 7, 8, 9, 10]\n"
     ]
    }
   ],
   "source": [
    "# 初始化\n",
    "arr_a = [1, 2, 3, 4]\n",
    "print arr_a\n",
    "arr_a = range(10)\n",
    "print arr_a\n",
    "arr_a =[1]*8\n",
    "print arr_a\n",
    "arr_a =[ 2 for n in range(10)]\n",
    "print arr_a\n",
    "tuple_a = (1, 2, 3, 4)\n",
    "arr_a = list(tuple_a)\n",
    "print arr_a\n",
    "\n",
    "# 复制操作\n",
    "arr_b = arr_a[:]\n",
    "print arr_b\n",
    "arr_b = list(arr_a)\n",
    "print arr_b\n",
    "\n",
    "arr_a = range(10)\n",
    "print arr_a\n",
    "my_slice = slice(1,9,2)\n",
    "print \"slice\", arr_a[my_slice]\n",
    "\n",
    "# 截取操作\n",
    "print arr_a[:2]\n",
    "print arr_a[1:2]\n",
    "print arr_a[2:]\n",
    "\n",
    "# 批量操作\n",
    "arr_b = [x+1 for x in arr_a]\n",
    "print arr_b\n"
   ]
  },
  {
   "cell_type": "code",
   "execution_count": 22,
   "metadata": {},
   "outputs": [
    {
     "name": "stdout",
     "output_type": "stream",
     "text": [
      "[[1, 2, 1], [1, 3, 4], [2, 3, 4]]\n[[2, 3, 4], [1, 3, 4], [1, 2, 1]]\n"
     ]
    }
   ],
   "source": [
    "# 排序操作\n",
    "arr =[[1, 3, 4], [2, 3, 4], [1, 2, 1]]\n",
    "# 根据子list的和进行倒排序\n",
    "arr.sort(cmp=lambda x,y: 1 if sum(x) > sum(y) else -1)\n",
    "print arr\n",
    "# 根据子list的第一个字段进行排序\n",
    "arr.sort(key=lambda x:x[0])\n",
    "# 根据子list的和进行倒排序\n",
    "arr.sort(key=lambda x:sum(x), reverse=True)\n",
    "print arr"
   ]
  },
  {
   "cell_type": "code",
   "execution_count": 18,
   "metadata": {},
   "outputs": [
    {
     "name": "stdout",
     "output_type": "stream",
     "text": [
      "True\n0\n-1\n"
     ]
    }
   ],
   "source": [
    "# 两个比较操作\n",
    "arr_a, arr_b = [1, 2, 3], [1, 2, 3]\n",
    "print arr_a == arr_b\n",
    "print cmp(arr_a, arr_b)\n",
    "arr_b = [2, 3, 4]\n",
    "print cmp(arr_a, arr_b)"
   ]
  },
  {
   "cell_type": "code",
   "execution_count": 50,
   "metadata": {},
   "outputs": [
    {
     "name": "stdout",
     "output_type": "stream",
     "text": [
      "['b', 'c']\n1\n3\n5\n7\n9\n[2, 4, 6, 8, 10]\n[2, 4, 6, 8, 10]\n[3, 3, 3]\n[3, 3, 3, 3, 3, 3, 3, 3, 3]\n[3, 4, 5]\n[2, 4, 6, 8, 10, 12, 14, 16, 18, 20, 22, 24, 26, 28, 30, 32, 34, 36, 38, 40, 42, 44, 46, 48, 50, 52, 54, 56, 58, 60, 62, 64, 66, 68, 70, 72, 74, 76, 78, 80, 82, 84, 86, 88, 90, 92, 94, 96, 98]\n"
     ]
    }
   ],
   "source": [
    "# 批量操作\n",
    "\n",
    "# 批量删除某个值\n",
    "arr = ['a', 'b', 'c', 'a', 'a']\n",
    "search_char = 'a'\n",
    "for index in range(arr.count(search_char)):\n",
    "    arr.remove(search_char)\n",
    "print  arr \n",
    "\n",
    "# 错误用法 for in 循环下标还在增加，但是值变了\n",
    "list_demo = [1,2,3,4,5,6,7,8,9,10]\n",
    "for item in list_demo:\n",
    "    print item\n",
    "    list_demo.remove(item)\n",
    "print list_demo\n",
    "\n",
    "# 批量计算\n",
    "arr_a = [1, 2, 3, 4, 5]\n",
    "arr_b = [x*2 for x in arr_a]\n",
    "print arr_b\n",
    "\n",
    "# 两个list之间计算\n",
    "arr_a, arr_b = [1, 1, 1], [2, 2, 2]\n",
    "# 同长度计算\n",
    "arr_c = map(lambda x,y: x+y, arr_a, arr_b)\n",
    "print arr_c\n",
    "# 笛卡尔乘积\n",
    "arr_c = [x+y for x in arr_a for y in arr_b]\n",
    "print arr_c\n",
    "\n",
    "# 批量过滤\n",
    "arr_a = [1, 2, 3, 4, 5]\n",
    "arr_c = [x for x in arr_a if  x >2]\n",
    "print arr_c\n",
    "# filter函数 过滤\n",
    "print filter(lambda x: x%2==0, range(1,100))"
   ]
  },
  {
   "cell_type": "code",
   "execution_count": 39,
   "metadata": {},
   "outputs": [
    {
     "name": "stdout",
     "output_type": "stream",
     "text": [
      "[(0, 0), (1, 2), (2, 4), (3, 6), (4, 8), (5, 10)]\n[[0, 0, 0], [1, 2, 3], [2, 4, 6], [3, 6, 9], [4, 8, 12], [5, 10, 15]]\n"
     ]
    }
   ],
   "source": [
    "# nested list initial\n",
    "arr_a = [(x, x*2) for x in range(6)]\n",
    "print arr_a\n",
    "arr_b = [[x, x*2, x*3] for x in range(6)]\n",
    "print arr_b\n"
   ]
  },
  {
   "cell_type": "code",
   "execution_count": 49,
   "metadata": {},
   "outputs": [
    {
     "name": "stdout",
     "output_type": "stream",
     "text": [
      "[[1, 2, 3, 4], [5, 6, 7, 8], [9, 10, 11, 12]]\n[(1, 5, 9), (2, 6, 10), (3, 7, 11), (4, 8, 12)]\n[[1, 5, 9], [2, 6, 10], [3, 7, 11], [4, 8, 12]]\n0\n9\n"
     ]
    },
    {
     "ename": "TypeError",
     "evalue": "ord() expected string of length 1, but list found",
     "traceback": [
      "\u001b[0;31m\u001b[0m",
      "\u001b[0;31mTypeError\u001b[0mTraceback (most recent call last)",
      "\u001b[0;32m<ipython-input-49-7a5a3e6ceab2>\u001b[0m in \u001b[0;36m<module>\u001b[0;34m()\u001b[0m\n\u001b[1;32m     14\u001b[0m \u001b[0;31m# to a string\u001b[0m\u001b[0;34m\u001b[0m\u001b[0;34m\u001b[0m\u001b[0m\n\u001b[1;32m     15\u001b[0m \u001b[0mstr\u001b[0m\u001b[0;34m(\u001b[0m\u001b[0marr_a\u001b[0m\u001b[0;34m)\u001b[0m\u001b[0;34m\u001b[0m\u001b[0m\n\u001b[0;32m---> 16\u001b[0;31m \u001b[0mord\u001b[0m\u001b[0;34m(\u001b[0m\u001b[0marr_a\u001b[0m\u001b[0;34m)\u001b[0m\u001b[0;34m\u001b[0m\u001b[0m\n\u001b[0m",
      "\u001b[0;31mTypeError\u001b[0m: ord() expected string of length 1, but list found"
     ],
     "output_type": "error"
    }
   ],
   "source": [
    "# transpose rows and columns\n",
    "arr_a = [[x+1, x+2, x+3, x+4] for x in range(0, 12, 4)]\n",
    "print arr_a\n",
    "arr_b =  zip(*arr_a)\n",
    "print arr_b\n",
    "arr_c = [list(x) for x in arr_b]\n",
    "print arr_c\n",
    "\n",
    "# min, max\n",
    "arr_a =  [x for x in range(10)]\n",
    "print min(arr_a)\n",
    "print max(arr_a)\n",
    "\n",
    "# to a string\n",
    "str(arr_a)\n"
   ]
  },
  {
   "cell_type": "code",
   "execution_count": null,
   "metadata": {},
   "outputs": [],
   "source": []
  }
 ],
 "metadata": {
  "kernelspec": {
   "display_name": "Python 2",
   "language": "python",
   "name": "python2"
  },
  "language_info": {
   "codemirror_mode": {
    "name": "ipython",
    "version": 2
   },
   "file_extension": ".py",
   "mimetype": "text/x-python",
   "name": "python",
   "nbconvert_exporter": "python",
   "pygments_lexer": "ipython2",
   "version": "2.7.6"
  }
 },
 "nbformat": 4,
 "nbformat_minor": 0
}

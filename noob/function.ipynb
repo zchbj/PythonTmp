{
 "cells": [
  {
   "cell_type": "code",
   "execution_count": 8,
   "metadata": {
    "collapsed": true
   },
   "outputs": [
    {
     "ename": "SyntaxError",
     "evalue": "invalid syntax (<ipython-input-8-365cad07c5e6>, line 12)",
     "traceback": [
      "\u001b[0;36m  File \u001b[0;32m\"<ipython-input-8-365cad07c5e6>\"\u001b[0;36m, line \u001b[0;32m12\u001b[0m\n\u001b[0;31m    print *e\u001b[0m\n\u001b[0m          ^\u001b[0m\n\u001b[0;31mSyntaxError\u001b[0m\u001b[0;31m:\u001b[0m invalid syntax\n"
     ],
     "output_type": "error"
    }
   ],
   "source": [
    "#!/usr/bin/python\n",
    "# -*- conding: utf-8 -*-\n",
    "\n",
    "a = [1, 2, 3]\n",
    "b = [1, 2, 3, 4]\n",
    "c = zip(a,b)\n",
    "print c\n",
    "d = zip(*c)\n",
    "print d\n",
    "e = [(1,2,3), ('a', 'b', 'c'), ('e', 'd', 'for ')]\n",
    "print zip(*e)\n"
   ]
  },
  {
   "cell_type": "code",
   "execution_count": null,
   "metadata": {},
   "outputs": [],
   "source": [
    ""
   ]
  }
 ],
 "metadata": {
  "kernelspec": {
   "display_name": "Python 2",
   "language": "python",
   "name": "python2"
  },
  "language_info": {
   "codemirror_mode": {
    "name": "ipython",
    "version": 2.0
   },
   "file_extension": ".py",
   "mimetype": "text/x-python",
   "name": "python",
   "nbconvert_exporter": "python",
   "pygments_lexer": "ipython2",
   "version": "2.7.6"
  }
 },
 "nbformat": 4,
 "nbformat_minor": 0
}